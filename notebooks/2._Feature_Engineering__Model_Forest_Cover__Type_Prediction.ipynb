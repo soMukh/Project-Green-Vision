{
 "cells": [
  {
   "cell_type": "markdown",
   "id": "50d024fd",
   "metadata": {},
   "source": [
    "# Data Pre-Processing"
   ]
  },
  {
   "cell_type": "markdown",
   "id": "243f31f5",
   "metadata": {},
   "source": [
    "#### Import Packages and CSV"
   ]
  },
  {
   "cell_type": "code",
   "execution_count": 1,
   "id": "55a92c8b",
   "metadata": {},
   "outputs": [],
   "source": [
    "import pandas as pd\n",
    "import numpy as np\n",
    "import seaborn as sns\n",
    "import matplotlib.pyplot as plt\n",
    "# machine learning models\n",
    "from sklearn.neighbors import KNeighborsClassifier\n",
    "from sklearn.ensemble import RandomForestClassifier, ExtraTreesClassifier\n",
    "from xgboost import XGBClassifier\n",
    "from lightgbm import LGBMClassifier\n",
    "from sklearn.linear_model import LogisticRegression\n",
    "\n",
    "# preprocessing functions and evaluation models\n",
    "from sklearn.model_selection import train_test_split, RandomizedSearchCV, GridSearchCV\n",
    "from sklearn.metrics import accuracy_score, confusion_matrix, classification_report,roc_auc_score\n",
    "from sklearn.dummy import DummyClassifier\n",
    "from sklearn.preprocessing import StandardScaler\n",
    "from catboost import CatBoostClassifier\n",
    "\n",
    "%matplotlib inline\n",
    "# Supress unnecessary warnings\n",
    "import warnings\n",
    "warnings.filterwarnings('ignore')"
   ]
  },
  {
   "cell_type": "markdown",
   "id": "9b8f7c01",
   "metadata": {},
   "source": [
    "**Import the CSV Data as Pandas DataFrame**"
   ]
  },
  {
   "cell_type": "code",
   "execution_count": 2,
   "id": "1fdd8e80",
   "metadata": {},
   "outputs": [
    {
     "data": {
      "text/html": [
       "<div>\n",
       "<style scoped>\n",
       "    .dataframe tbody tr th:only-of-type {\n",
       "        vertical-align: middle;\n",
       "    }\n",
       "\n",
       "    .dataframe tbody tr th {\n",
       "        vertical-align: top;\n",
       "    }\n",
       "\n",
       "    .dataframe thead th {\n",
       "        text-align: right;\n",
       "    }\n",
       "</style>\n",
       "<table border=\"1\" class=\"dataframe\">\n",
       "  <thead>\n",
       "    <tr style=\"text-align: right;\">\n",
       "      <th></th>\n",
       "      <th>Elevation</th>\n",
       "      <th>Aspect</th>\n",
       "      <th>Slope</th>\n",
       "      <th>Horizontal_Distance_To_Hydrology</th>\n",
       "      <th>Vertical_Distance_To_Hydrology</th>\n",
       "      <th>Horizontal_Distance_To_Roadways</th>\n",
       "      <th>Hillshade_9am</th>\n",
       "      <th>Hillshade_Noon</th>\n",
       "      <th>Hillshade_3pm</th>\n",
       "      <th>Horizontal_Distance_To_Fire_Points</th>\n",
       "      <th>...</th>\n",
       "      <th>Soil_Type32</th>\n",
       "      <th>Soil_Type33</th>\n",
       "      <th>Soil_Type34</th>\n",
       "      <th>Soil_Type35</th>\n",
       "      <th>Soil_Type36</th>\n",
       "      <th>Soil_Type37</th>\n",
       "      <th>Soil_Type38</th>\n",
       "      <th>Soil_Type39</th>\n",
       "      <th>Soil_Type40</th>\n",
       "      <th>Cover_Type</th>\n",
       "    </tr>\n",
       "  </thead>\n",
       "  <tbody>\n",
       "    <tr>\n",
       "      <th>0</th>\n",
       "      <td>2596</td>\n",
       "      <td>51</td>\n",
       "      <td>3</td>\n",
       "      <td>258</td>\n",
       "      <td>0</td>\n",
       "      <td>510</td>\n",
       "      <td>221</td>\n",
       "      <td>232</td>\n",
       "      <td>148</td>\n",
       "      <td>6279</td>\n",
       "      <td>...</td>\n",
       "      <td>0</td>\n",
       "      <td>0</td>\n",
       "      <td>0</td>\n",
       "      <td>0</td>\n",
       "      <td>0</td>\n",
       "      <td>0</td>\n",
       "      <td>0</td>\n",
       "      <td>0</td>\n",
       "      <td>0</td>\n",
       "      <td>5</td>\n",
       "    </tr>\n",
       "    <tr>\n",
       "      <th>1</th>\n",
       "      <td>2590</td>\n",
       "      <td>56</td>\n",
       "      <td>2</td>\n",
       "      <td>212</td>\n",
       "      <td>-6</td>\n",
       "      <td>390</td>\n",
       "      <td>220</td>\n",
       "      <td>235</td>\n",
       "      <td>151</td>\n",
       "      <td>6225</td>\n",
       "      <td>...</td>\n",
       "      <td>0</td>\n",
       "      <td>0</td>\n",
       "      <td>0</td>\n",
       "      <td>0</td>\n",
       "      <td>0</td>\n",
       "      <td>0</td>\n",
       "      <td>0</td>\n",
       "      <td>0</td>\n",
       "      <td>0</td>\n",
       "      <td>5</td>\n",
       "    </tr>\n",
       "    <tr>\n",
       "      <th>2</th>\n",
       "      <td>2804</td>\n",
       "      <td>139</td>\n",
       "      <td>9</td>\n",
       "      <td>268</td>\n",
       "      <td>65</td>\n",
       "      <td>3180</td>\n",
       "      <td>234</td>\n",
       "      <td>238</td>\n",
       "      <td>135</td>\n",
       "      <td>6121</td>\n",
       "      <td>...</td>\n",
       "      <td>0</td>\n",
       "      <td>0</td>\n",
       "      <td>0</td>\n",
       "      <td>0</td>\n",
       "      <td>0</td>\n",
       "      <td>0</td>\n",
       "      <td>0</td>\n",
       "      <td>0</td>\n",
       "      <td>0</td>\n",
       "      <td>2</td>\n",
       "    </tr>\n",
       "    <tr>\n",
       "      <th>3</th>\n",
       "      <td>2785</td>\n",
       "      <td>155</td>\n",
       "      <td>18</td>\n",
       "      <td>242</td>\n",
       "      <td>118</td>\n",
       "      <td>3090</td>\n",
       "      <td>238</td>\n",
       "      <td>238</td>\n",
       "      <td>122</td>\n",
       "      <td>6211</td>\n",
       "      <td>...</td>\n",
       "      <td>0</td>\n",
       "      <td>0</td>\n",
       "      <td>0</td>\n",
       "      <td>0</td>\n",
       "      <td>0</td>\n",
       "      <td>0</td>\n",
       "      <td>0</td>\n",
       "      <td>0</td>\n",
       "      <td>0</td>\n",
       "      <td>2</td>\n",
       "    </tr>\n",
       "    <tr>\n",
       "      <th>4</th>\n",
       "      <td>2595</td>\n",
       "      <td>45</td>\n",
       "      <td>2</td>\n",
       "      <td>153</td>\n",
       "      <td>-1</td>\n",
       "      <td>391</td>\n",
       "      <td>220</td>\n",
       "      <td>234</td>\n",
       "      <td>150</td>\n",
       "      <td>6172</td>\n",
       "      <td>...</td>\n",
       "      <td>0</td>\n",
       "      <td>0</td>\n",
       "      <td>0</td>\n",
       "      <td>0</td>\n",
       "      <td>0</td>\n",
       "      <td>0</td>\n",
       "      <td>0</td>\n",
       "      <td>0</td>\n",
       "      <td>0</td>\n",
       "      <td>5</td>\n",
       "    </tr>\n",
       "  </tbody>\n",
       "</table>\n",
       "<p>5 rows × 55 columns</p>\n",
       "</div>"
      ],
      "text/plain": [
       "   Elevation  Aspect  Slope  Horizontal_Distance_To_Hydrology  \\\n",
       "0       2596      51      3                               258   \n",
       "1       2590      56      2                               212   \n",
       "2       2804     139      9                               268   \n",
       "3       2785     155     18                               242   \n",
       "4       2595      45      2                               153   \n",
       "\n",
       "   Vertical_Distance_To_Hydrology  Horizontal_Distance_To_Roadways  \\\n",
       "0                               0                              510   \n",
       "1                              -6                              390   \n",
       "2                              65                             3180   \n",
       "3                             118                             3090   \n",
       "4                              -1                              391   \n",
       "\n",
       "   Hillshade_9am  Hillshade_Noon  Hillshade_3pm  \\\n",
       "0            221             232            148   \n",
       "1            220             235            151   \n",
       "2            234             238            135   \n",
       "3            238             238            122   \n",
       "4            220             234            150   \n",
       "\n",
       "   Horizontal_Distance_To_Fire_Points  ...  Soil_Type32  Soil_Type33  \\\n",
       "0                                6279  ...            0            0   \n",
       "1                                6225  ...            0            0   \n",
       "2                                6121  ...            0            0   \n",
       "3                                6211  ...            0            0   \n",
       "4                                6172  ...            0            0   \n",
       "\n",
       "   Soil_Type34  Soil_Type35  Soil_Type36  Soil_Type37  Soil_Type38  \\\n",
       "0            0            0            0            0            0   \n",
       "1            0            0            0            0            0   \n",
       "2            0            0            0            0            0   \n",
       "3            0            0            0            0            0   \n",
       "4            0            0            0            0            0   \n",
       "\n",
       "   Soil_Type39  Soil_Type40  Cover_Type  \n",
       "0            0            0           5  \n",
       "1            0            0           5  \n",
       "2            0            0           2  \n",
       "3            0            0           2  \n",
       "4            0            0           5  \n",
       "\n",
       "[5 rows x 55 columns]"
      ]
     },
     "execution_count": 2,
     "metadata": {},
     "output_type": "execute_result"
    }
   ],
   "source": [
    "df = pd.read_csv('data/covtype.csv')\n",
    "df.head()"
   ]
  },
  {
   "cell_type": "markdown",
   "id": "1a69fc7b",
   "metadata": {},
   "source": [
    "## Data Cleaning\n",
    "#### Checking features with nan value"
   ]
  },
  {
   "cell_type": "code",
   "execution_count": 48,
   "id": "e8998092",
   "metadata": {},
   "outputs": [],
   "source": [
    "features_with_na=[features for features in df.columns if df[features].isnull().sum()>=1]\n",
    "for feature in features_with_na:\n",
    "    print(feature,np.round(df[feature].isnull().mean()*100,5), '% missing values')"
   ]
  },
  {
   "cell_type": "markdown",
   "id": "fbcc0cad",
   "metadata": {},
   "source": [
    "**Handling Duplicates**"
   ]
  },
  {
   "cell_type": "code",
   "execution_count": 49,
   "id": "18afc534",
   "metadata": {},
   "outputs": [
    {
     "data": {
      "text/plain": [
       "0"
      ]
     },
     "execution_count": 49,
     "metadata": {},
     "output_type": "execute_result"
    }
   ],
   "source": [
    "df.duplicated().sum()"
   ]
  },
  {
   "cell_type": "markdown",
   "id": "f1c71c45",
   "metadata": {},
   "source": [
    "# Feature Engineering\n",
    "### Type of Features\n",
    "**Numeric Features**"
   ]
  },
  {
   "cell_type": "code",
   "execution_count": 3,
   "id": "cf2ebb82",
   "metadata": {},
   "outputs": [
    {
     "name": "stdout",
     "output_type": "stream",
     "text": [
      "Number of Numerical Features : 55\n"
     ]
    }
   ],
   "source": [
    "numeric_features = [feature for feature in df.columns if df[feature].dtype != 'O']\n",
    "print('Number of Numerical Features :', len(numeric_features))"
   ]
  },
  {
   "cell_type": "markdown",
   "id": "1fd70873",
   "metadata": {},
   "source": [
    "**Categorical Features**"
   ]
  },
  {
   "cell_type": "code",
   "execution_count": 4,
   "id": "4f95703a",
   "metadata": {},
   "outputs": [
    {
     "name": "stdout",
     "output_type": "stream",
     "text": [
      "Number of Categorical Features : 0\n"
     ]
    }
   ],
   "source": [
    "categorical_features = [feature for feature in df.columns if df[feature].dtype == 'O']\n",
    "print('Number of Categorical Features :', len(categorical_features))"
   ]
  },
  {
   "cell_type": "markdown",
   "id": "f570b6a8",
   "metadata": {},
   "source": [
    "**Discrete Features**"
   ]
  },
  {
   "cell_type": "code",
   "execution_count": 5,
   "id": "58442d87",
   "metadata": {},
   "outputs": [
    {
     "name": "stdout",
     "output_type": "stream",
     "text": [
      "Number of Discrete Features : 45\n"
     ]
    }
   ],
   "source": [
    "discrete_features=[feature for feature in numeric_features if (len(df[feature].unique())<=25)]\n",
    "print('Number of Discrete Features :',len(discrete_features))"
   ]
  },
  {
   "cell_type": "markdown",
   "id": "a114cb2a",
   "metadata": {},
   "source": [
    "**Continuous features**"
   ]
  },
  {
   "cell_type": "code",
   "execution_count": 6,
   "id": "fee69cc6",
   "metadata": {},
   "outputs": [
    {
     "name": "stdout",
     "output_type": "stream",
     "text": [
      "Number of Continuous Features : 10\n"
     ]
    }
   ],
   "source": [
    "continuous_features=[feature for feature in numeric_features if len(df[feature].unique()) > 25]\n",
    "print('Number of Continuous Features :',len(continuous_features))"
   ]
  },
  {
   "cell_type": "markdown",
   "id": "1ce4f1b7",
   "metadata": {},
   "source": [
    "### Check Outlier and Capping it\n",
    "**Why outliers?**\n",
    "* Data Entry error : Human error. \n",
    "* Measurement error: Instrument error. \n",
    "* Natural error: it will be Real life data.\n",
    "* Intentional error: People give wrong inputs\n",
    "\n",
    "**Impact of Outliers ?**\n",
    "* Ouliers can very high impact on few Machine learning models.\n",
    "* Can Cause bias in the output.\n",
    "\n",
    "**Checking Outliers in Continuous features**"
   ]
  },
  {
   "cell_type": "code",
   "execution_count": 7,
   "id": "b129e87d",
   "metadata": {},
   "outputs": [
    {
     "data": {
      "image/png": "[encoded data removed]",
      "text/plain": [
       "<Figure size 1080x1440 with 10 Axes>"
      ]
     },
     "metadata": {
      "needs_background": "light"
     },
     "output_type": "display_data"
    }
   ],
   "source": [
    "plt.figure(figsize=(15, 20))\n",
    "plt.suptitle('Check Outliers', fontsize=20, fontweight='bold', alpha=0.8, y=1.)\n",
    "for i in range(0, len(continuous_features)):\n",
    "    plt.subplot(5, 2, i+1)\n",
    "    sns.set_style('ticks')\n",
    "    sns.boxplot(df[continuous_features[i]])\n",
    "    plt.tight_layout()"
   ]
  },
  {
   "cell_type": "markdown",
   "id": "fd197192",
   "metadata": {},
   "source": [
    "#### Insight\n",
    "- Except 'Aspect' rest all other 9 continuous features has outliers."
   ]
  },
  {
   "cell_type": "code",
   "execution_count": 8,
   "id": "878d043e",
   "metadata": {},
   "outputs": [],
   "source": [
    "df_copy = df.copy()\n",
    "def detect_and_capping_outliers(col):\n",
    "    # Finding the IQR\n",
    "    percentile25 = df_copy[col].quantile(0.25)\n",
    "    percentile75 = df_copy[col].quantile(0.75)\n",
    "    iqr = percentile75 - percentile25\n",
    "    upper_limit = percentile75 + 1.5 * iqr\n",
    "    lower_limit = percentile25 - 1.5 * iqr\n",
    "    df_copy.loc[(df[col]>upper_limit), col]= upper_limit\n",
    "    df_copy.loc[(df[col]<lower_limit), col]= lower_limit    \n",
    "    return df_copy"
   ]
  },
  {
   "cell_type": "code",
   "execution_count": 9,
   "id": "18674123",
   "metadata": {},
   "outputs": [],
   "source": [
    "for col in continuous_features:\n",
    "         detect_and_capping_outliers(col)"
   ]
  },
  {
   "cell_type": "code",
   "execution_count": 10,
   "id": "f00b1034",
   "metadata": {},
   "outputs": [
    {
     "data": {
      "image/png": "[encoded data removed]",
      "text/plain": [
       "<Figure size 1080x1440 with 10 Axes>"
      ]
     },
     "metadata": {},
     "output_type": "display_data"
    }
   ],
   "source": [
    "plt.figure(figsize=(15, 20))\n",
    "plt.suptitle('Removed Outliers', fontsize=20, fontweight='bold', alpha=0.8, y=1.)\n",
    "for i in range(0, len(continuous_features)):\n",
    "    plt.subplot(5, 2, i+1)\n",
    "    sns.set_style('ticks')\n",
    "    sns.boxplot(df_copy[continuous_features[i]])\n",
    "    plt.tight_layout()"
   ]
  },
  {
   "cell_type": "code",
   "execution_count": 11,
   "id": "d34aeb83",
   "metadata": {},
   "outputs": [
    {
     "data": {
      "text/plain": [
       "Index(['Elevation', 'Aspect', 'Slope', 'Horizontal_Distance_To_Hydrology',\n",
       "       'Vertical_Distance_To_Hydrology', 'Horizontal_Distance_To_Roadways',\n",
       "       'Hillshade_9am', 'Hillshade_Noon', 'Hillshade_3pm',\n",
       "       'Horizontal_Distance_To_Fire_Points', 'Wilderness_Area1',\n",
       "       'Wilderness_Area2', 'Wilderness_Area3', 'Wilderness_Area4',\n",
       "       'Soil_Type1', 'Soil_Type2', 'Soil_Type3', 'Soil_Type4', 'Soil_Type5',\n",
       "       'Soil_Type6', 'Soil_Type7', 'Soil_Type8', 'Soil_Type9', 'Soil_Type10',\n",
       "       'Soil_Type11', 'Soil_Type12', 'Soil_Type13', 'Soil_Type14',\n",
       "       'Soil_Type15', 'Soil_Type16', 'Soil_Type17', 'Soil_Type18',\n",
       "       'Soil_Type19', 'Soil_Type20', 'Soil_Type21', 'Soil_Type22',\n",
       "       'Soil_Type23', 'Soil_Type24', 'Soil_Type25', 'Soil_Type26',\n",
       "       'Soil_Type27', 'Soil_Type28', 'Soil_Type29', 'Soil_Type30',\n",
       "       'Soil_Type31', 'Soil_Type32', 'Soil_Type33', 'Soil_Type34',\n",
       "       'Soil_Type35', 'Soil_Type36', 'Soil_Type37', 'Soil_Type38',\n",
       "       'Soil_Type39', 'Soil_Type40', 'Cover_Type'],\n",
       "      dtype='object')"
      ]
     },
     "execution_count": 11,
     "metadata": {},
     "output_type": "execute_result"
    }
   ],
   "source": [
    "df.columns"
   ]
  },
  {
   "cell_type": "markdown",
   "id": "e45251d8",
   "metadata": {},
   "source": [
    "#### Create one column as Wilderness_Area_Type and represent it as categorical data"
   ]
  },
  {
   "cell_type": "code",
   "execution_count": 12,
   "id": "75d7835c",
   "metadata": {},
   "outputs": [],
   "source": [
    "df['Wilderness_Area_Type'] = (df.iloc[:, 10:15] == 1).idxmax(1)\n",
    "#list of wilderness areas\n",
    "wilderness_areas = sorted(df['Wilderness_Area_Type'].value_counts().index.tolist())"
   ]
  },
  {
   "cell_type": "code",
   "execution_count": 13,
   "id": "a125bf34",
   "metadata": {},
   "outputs": [
    {
     "data": {
      "text/plain": [
       "['Wilderness_Area1',\n",
       " 'Wilderness_Area2',\n",
       " 'Wilderness_Area3',\n",
       " 'Wilderness_Area4']"
      ]
     },
     "execution_count": 13,
     "metadata": {},
     "output_type": "execute_result"
    }
   ],
   "source": [
    "wilderness_areas"
   ]
  },
  {
   "cell_type": "code",
   "execution_count": 14,
   "id": "10f06427",
   "metadata": {},
   "outputs": [],
   "source": [
    "def split_numbers_chars(row):\n",
    "    '''This function fetches the numerical characters at the end of a string\n",
    "    and returns alphabetical character and numerical charcters respectively'''\n",
    "    head = row.rstrip('0123456789')\n",
    "    tail = row[len(head):]\n",
    "    return head, tail\n",
    "\n",
    "def reverse_one_hot_encode(dataframe, start_loc, end_loc, numeric_column_name):\n",
    "    ''' this function takes the start and end location of the one-hot-encoded column set and numeric column name to be created as arguments\n",
    "    1) transforms one-hot-encoded columns into one column consisting of column names with string data type\n",
    "    2) splits string column into the alphabetical and numerical characters\n",
    "    3) fetches numerical character and creates numeric column in the given dataframe\n",
    "    '''\n",
    "    dataframe['String_Column'] = (dataframe.iloc[:, start_loc:end_loc] == 1).idxmax(1)\n",
    "    dataframe['Tuple_Column'] = dataframe['String_Column'].apply(split_numbers_chars)\n",
    "    dataframe[numeric_column_name] = dataframe['Tuple_Column'].apply(lambda x: x[1]).astype('int64')\n",
    "    dataframe.drop(columns=['String_Column','Tuple_Column'], inplace=True)"
   ]
  },
  {
   "cell_type": "code",
   "execution_count": 15,
   "id": "494e59e4",
   "metadata": {},
   "outputs": [],
   "source": [
    "df_copy = df.copy()\n",
    "reverse_one_hot_encode(df_copy, 14, 56, \"Soil_Type\")"
   ]
  },
  {
   "cell_type": "code",
   "execution_count": 16,
   "id": "f9ac0a2c",
   "metadata": {},
   "outputs": [
    {
     "data": {
      "text/html": [
       "<div>\n",
       "<style scoped>\n",
       "    .dataframe tbody tr th:only-of-type {\n",
       "        vertical-align: middle;\n",
       "    }\n",
       "\n",
       "    .dataframe tbody tr th {\n",
       "        vertical-align: top;\n",
       "    }\n",
       "\n",
       "    .dataframe thead th {\n",
       "        text-align: right;\n",
       "    }\n",
       "</style>\n",
       "<table border=\"1\" class=\"dataframe\">\n",
       "  <thead>\n",
       "    <tr style=\"text-align: right;\">\n",
       "      <th></th>\n",
       "      <th>Elevation</th>\n",
       "      <th>Aspect</th>\n",
       "      <th>Slope</th>\n",
       "      <th>Horizontal_Distance_To_Hydrology</th>\n",
       "      <th>Vertical_Distance_To_Hydrology</th>\n",
       "      <th>Horizontal_Distance_To_Roadways</th>\n",
       "      <th>Hillshade_9am</th>\n",
       "      <th>Hillshade_Noon</th>\n",
       "      <th>Hillshade_3pm</th>\n",
       "      <th>Horizontal_Distance_To_Fire_Points</th>\n",
       "      <th>Wilderness_Area1</th>\n",
       "      <th>Wilderness_Area2</th>\n",
       "      <th>Wilderness_Area3</th>\n",
       "      <th>Wilderness_Area4</th>\n",
       "      <th>Soil_Type</th>\n",
       "      <th>Cover_Type</th>\n",
       "    </tr>\n",
       "  </thead>\n",
       "  <tbody>\n",
       "    <tr>\n",
       "      <th>0</th>\n",
       "      <td>2596</td>\n",
       "      <td>51</td>\n",
       "      <td>3</td>\n",
       "      <td>258</td>\n",
       "      <td>0</td>\n",
       "      <td>510</td>\n",
       "      <td>221</td>\n",
       "      <td>232</td>\n",
       "      <td>148</td>\n",
       "      <td>6279</td>\n",
       "      <td>1</td>\n",
       "      <td>0</td>\n",
       "      <td>0</td>\n",
       "      <td>0</td>\n",
       "      <td>29</td>\n",
       "      <td>5</td>\n",
       "    </tr>\n",
       "    <tr>\n",
       "      <th>1</th>\n",
       "      <td>2590</td>\n",
       "      <td>56</td>\n",
       "      <td>2</td>\n",
       "      <td>212</td>\n",
       "      <td>-6</td>\n",
       "      <td>390</td>\n",
       "      <td>220</td>\n",
       "      <td>235</td>\n",
       "      <td>151</td>\n",
       "      <td>6225</td>\n",
       "      <td>1</td>\n",
       "      <td>0</td>\n",
       "      <td>0</td>\n",
       "      <td>0</td>\n",
       "      <td>29</td>\n",
       "      <td>5</td>\n",
       "    </tr>\n",
       "    <tr>\n",
       "      <th>2</th>\n",
       "      <td>2804</td>\n",
       "      <td>139</td>\n",
       "      <td>9</td>\n",
       "      <td>268</td>\n",
       "      <td>65</td>\n",
       "      <td>3180</td>\n",
       "      <td>234</td>\n",
       "      <td>238</td>\n",
       "      <td>135</td>\n",
       "      <td>6121</td>\n",
       "      <td>1</td>\n",
       "      <td>0</td>\n",
       "      <td>0</td>\n",
       "      <td>0</td>\n",
       "      <td>12</td>\n",
       "      <td>2</td>\n",
       "    </tr>\n",
       "    <tr>\n",
       "      <th>3</th>\n",
       "      <td>2785</td>\n",
       "      <td>155</td>\n",
       "      <td>18</td>\n",
       "      <td>242</td>\n",
       "      <td>118</td>\n",
       "      <td>3090</td>\n",
       "      <td>238</td>\n",
       "      <td>238</td>\n",
       "      <td>122</td>\n",
       "      <td>6211</td>\n",
       "      <td>1</td>\n",
       "      <td>0</td>\n",
       "      <td>0</td>\n",
       "      <td>0</td>\n",
       "      <td>30</td>\n",
       "      <td>2</td>\n",
       "    </tr>\n",
       "    <tr>\n",
       "      <th>4</th>\n",
       "      <td>2595</td>\n",
       "      <td>45</td>\n",
       "      <td>2</td>\n",
       "      <td>153</td>\n",
       "      <td>-1</td>\n",
       "      <td>391</td>\n",
       "      <td>220</td>\n",
       "      <td>234</td>\n",
       "      <td>150</td>\n",
       "      <td>6172</td>\n",
       "      <td>1</td>\n",
       "      <td>0</td>\n",
       "      <td>0</td>\n",
       "      <td>0</td>\n",
       "      <td>29</td>\n",
       "      <td>5</td>\n",
       "    </tr>\n",
       "    <tr>\n",
       "      <th>...</th>\n",
       "      <td>...</td>\n",
       "      <td>...</td>\n",
       "      <td>...</td>\n",
       "      <td>...</td>\n",
       "      <td>...</td>\n",
       "      <td>...</td>\n",
       "      <td>...</td>\n",
       "      <td>...</td>\n",
       "      <td>...</td>\n",
       "      <td>...</td>\n",
       "      <td>...</td>\n",
       "      <td>...</td>\n",
       "      <td>...</td>\n",
       "      <td>...</td>\n",
       "      <td>...</td>\n",
       "      <td>...</td>\n",
       "    </tr>\n",
       "    <tr>\n",
       "      <th>581007</th>\n",
       "      <td>2396</td>\n",
       "      <td>153</td>\n",
       "      <td>20</td>\n",
       "      <td>85</td>\n",
       "      <td>17</td>\n",
       "      <td>108</td>\n",
       "      <td>240</td>\n",
       "      <td>237</td>\n",
       "      <td>118</td>\n",
       "      <td>837</td>\n",
       "      <td>0</td>\n",
       "      <td>0</td>\n",
       "      <td>1</td>\n",
       "      <td>0</td>\n",
       "      <td>2</td>\n",
       "      <td>3</td>\n",
       "    </tr>\n",
       "    <tr>\n",
       "      <th>581008</th>\n",
       "      <td>2391</td>\n",
       "      <td>152</td>\n",
       "      <td>19</td>\n",
       "      <td>67</td>\n",
       "      <td>12</td>\n",
       "      <td>95</td>\n",
       "      <td>240</td>\n",
       "      <td>237</td>\n",
       "      <td>119</td>\n",
       "      <td>845</td>\n",
       "      <td>0</td>\n",
       "      <td>0</td>\n",
       "      <td>1</td>\n",
       "      <td>0</td>\n",
       "      <td>2</td>\n",
       "      <td>3</td>\n",
       "    </tr>\n",
       "    <tr>\n",
       "      <th>581009</th>\n",
       "      <td>2386</td>\n",
       "      <td>159</td>\n",
       "      <td>17</td>\n",
       "      <td>60</td>\n",
       "      <td>7</td>\n",
       "      <td>90</td>\n",
       "      <td>236</td>\n",
       "      <td>241</td>\n",
       "      <td>130</td>\n",
       "      <td>854</td>\n",
       "      <td>0</td>\n",
       "      <td>0</td>\n",
       "      <td>1</td>\n",
       "      <td>0</td>\n",
       "      <td>2</td>\n",
       "      <td>3</td>\n",
       "    </tr>\n",
       "    <tr>\n",
       "      <th>581010</th>\n",
       "      <td>2384</td>\n",
       "      <td>170</td>\n",
       "      <td>15</td>\n",
       "      <td>60</td>\n",
       "      <td>5</td>\n",
       "      <td>90</td>\n",
       "      <td>230</td>\n",
       "      <td>245</td>\n",
       "      <td>143</td>\n",
       "      <td>864</td>\n",
       "      <td>0</td>\n",
       "      <td>0</td>\n",
       "      <td>1</td>\n",
       "      <td>0</td>\n",
       "      <td>2</td>\n",
       "      <td>3</td>\n",
       "    </tr>\n",
       "    <tr>\n",
       "      <th>581011</th>\n",
       "      <td>2383</td>\n",
       "      <td>165</td>\n",
       "      <td>13</td>\n",
       "      <td>60</td>\n",
       "      <td>4</td>\n",
       "      <td>67</td>\n",
       "      <td>231</td>\n",
       "      <td>244</td>\n",
       "      <td>141</td>\n",
       "      <td>875</td>\n",
       "      <td>0</td>\n",
       "      <td>0</td>\n",
       "      <td>1</td>\n",
       "      <td>0</td>\n",
       "      <td>2</td>\n",
       "      <td>3</td>\n",
       "    </tr>\n",
       "  </tbody>\n",
       "</table>\n",
       "<p>581012 rows × 16 columns</p>\n",
       "</div>"
      ],
      "text/plain": [
       "        Elevation  Aspect  Slope  Horizontal_Distance_To_Hydrology  \\\n",
       "0            2596      51      3                               258   \n",
       "1            2590      56      2                               212   \n",
       "2            2804     139      9                               268   \n",
       "3            2785     155     18                               242   \n",
       "4            2595      45      2                               153   \n",
       "...           ...     ...    ...                               ...   \n",
       "581007       2396     153     20                                85   \n",
       "581008       2391     152     19                                67   \n",
       "581009       2386     159     17                                60   \n",
       "581010       2384     170     15                                60   \n",
       "581011       2383     165     13                                60   \n",
       "\n",
       "        Vertical_Distance_To_Hydrology  Horizontal_Distance_To_Roadways  \\\n",
       "0                                    0                              510   \n",
       "1                                   -6                              390   \n",
       "2                                   65                             3180   \n",
       "3                                  118                             3090   \n",
       "4                                   -1                              391   \n",
       "...                                ...                              ...   \n",
       "581007                              17                              108   \n",
       "581008                              12                               95   \n",
       "581009                               7                               90   \n",
       "581010                               5                               90   \n",
       "581011                               4                               67   \n",
       "\n",
       "        Hillshade_9am  Hillshade_Noon  Hillshade_3pm  \\\n",
       "0                 221             232            148   \n",
       "1                 220             235            151   \n",
       "2                 234             238            135   \n",
       "3                 238             238            122   \n",
       "4                 220             234            150   \n",
       "...               ...             ...            ...   \n",
       "581007            240             237            118   \n",
       "581008            240             237            119   \n",
       "581009            236             241            130   \n",
       "581010            230             245            143   \n",
       "581011            231             244            141   \n",
       "\n",
       "        Horizontal_Distance_To_Fire_Points  Wilderness_Area1  \\\n",
       "0                                     6279                 1   \n",
       "1                                     6225                 1   \n",
       "2                                     6121                 1   \n",
       "3                                     6211                 1   \n",
       "4                                     6172                 1   \n",
       "...                                    ...               ...   \n",
       "581007                                 837                 0   \n",
       "581008                                 845                 0   \n",
       "581009                                 854                 0   \n",
       "581010                                 864                 0   \n",
       "581011                                 875                 0   \n",
       "\n",
       "        Wilderness_Area2  Wilderness_Area3  Wilderness_Area4  Soil_Type  \\\n",
       "0                      0                 0                 0         29   \n",
       "1                      0                 0                 0         29   \n",
       "2                      0                 0                 0         12   \n",
       "3                      0                 0                 0         30   \n",
       "4                      0                 0                 0         29   \n",
       "...                  ...               ...               ...        ...   \n",
       "581007                 0                 1                 0          2   \n",
       "581008                 0                 1                 0          2   \n",
       "581009                 0                 1                 0          2   \n",
       "581010                 0                 1                 0          2   \n",
       "581011                 0                 1                 0          2   \n",
       "\n",
       "        Cover_Type  \n",
       "0                5  \n",
       "1                5  \n",
       "2                2  \n",
       "3                2  \n",
       "4                5  \n",
       "...            ...  \n",
       "581007           3  \n",
       "581008           3  \n",
       "581009           3  \n",
       "581010           3  \n",
       "581011           3  \n",
       "\n",
       "[581012 rows x 16 columns]"
      ]
     },
     "execution_count": 16,
     "metadata": {},
     "output_type": "execute_result"
    }
   ],
   "source": [
    "feature_names = continuous_features + wilderness_areas + [\"Soil_Type\"] + [\"Cover_Type\"]\n",
    "all_features_df = df_copy[feature_names]\n",
    "all_features_df"
   ]
  },
  {
   "cell_type": "markdown",
   "id": "10167496",
   "metadata": {},
   "source": [
    "## Handling Imbalanced Target Variable(Cover_Type)"
   ]
  },
  {
   "cell_type": "code",
   "execution_count": 17,
   "id": "6848feca",
   "metadata": {},
   "outputs": [],
   "source": [
    "all_features_df[\"Cover_Type\"] = all_features_df[\"Cover_Type\"]-1"
   ]
  },
  {
   "cell_type": "code",
   "execution_count": 18,
   "id": "ce6bb385",
   "metadata": {},
   "outputs": [
    {
     "data": {
      "text/plain": [
       "1    283301\n",
       "0    211840\n",
       "2     35754\n",
       "6     20510\n",
       "5     17367\n",
       "4      9493\n",
       "3      2747\n",
       "Name: Cover_Type, dtype: int64"
      ]
     },
     "execution_count": 18,
     "metadata": {},
     "output_type": "execute_result"
    }
   ],
   "source": [
    "all_features_df[\"Cover_Type\"].value_counts()"
   ]
  },
  {
   "cell_type": "code",
   "execution_count": 19,
   "id": "3446d5a3",
   "metadata": {},
   "outputs": [
    {
     "data": {
      "image/png": "[encoded data removed]",
      "text/plain": [
       "<Figure size 1008x504 with 1 Axes>"
      ]
     },
     "metadata": {},
     "output_type": "display_data"
    }
   ],
   "source": [
    "plt.subplots(figsize=(14,7))\n",
    "sns.countplot(x=\"Cover_Type\", data=df,ec = \"black\",palette=\"Set1\",order = df['Cover_Type'].value_counts().index)\n",
    "plt.title(\"Cover Type Class Distribution\", weight=\"bold\",fontsize=20, pad=20)\n",
    "plt.ylabel(\"Count\", weight=\"bold\", fontsize=20)\n",
    "plt.xlabel(\"Cover_Type Class\", weight=\"bold\", fontsize=16)\n",
    "plt.xticks(rotation= 45)\n",
    "\n",
    "plt.show()"
   ]
  },
  {
   "cell_type": "markdown",
   "id": "c4b2afce",
   "metadata": {},
   "source": [
    "#### Inference\n",
    "- As most of the data is of class 0 and class 1 type.\n",
    "- So its a clear case of imbalaced data "
   ]
  },
  {
   "cell_type": "code",
   "execution_count": 20,
   "id": "625bfeba",
   "metadata": {},
   "outputs": [],
   "source": [
    "def split_and_scale_data(df):\n",
    "    df = df.copy()\n",
    "    \n",
    "    # Split data in train and test set\n",
    "    X = df.drop(\"Cover_Type\", axis = 1)\n",
    "    y = df[\"Cover_Type\"]\n",
    "    \n",
    "    X_train, X_test, y_train, y_test = train_test_split(X,y,test_size=0.2,random_state=42)\n",
    "    \n",
    "    # Scale data using standard scaler\n",
    "    scaler = StandardScaler()\n",
    "    scaler.fit(X_train)\n",
    "    \n",
    "    X_train = pd.DataFrame(scaler.transform(X_train), columns=X_train.columns)\n",
    "    X_test = pd.DataFrame(scaler.transform(X_test), columns=X_test.columns)\n",
    "    \n",
    "    return X_train, X_test, y_train, y_test"
   ]
  },
  {
   "cell_type": "code",
   "execution_count": 21,
   "id": "e7d1efb9",
   "metadata": {},
   "outputs": [],
   "source": [
    "def evaluate_model(model, blanced_class, X_test, y_test):\n",
    "    model_accuracy = model.score(X_test, y_test)\n",
    "    print(\"Accuracy({}):{:.2f}%\".format(blanced_class, model_accuracy*100))\n",
    "\n",
    "    y_pred = model.predict(X_test)\n",
    "    \n",
    "    cm = confusion_matrix(y_test, y_pred)\n",
    "    cl_report = classification_report(y_test, y_pred)\n",
    "    \n",
    "    plt.figure(figsize=(8,8))\n",
    "    sns.heatmap(cm, annot= True, fmt='g', vmin=0,cbar= False)\n",
    "    plt.xlabel(\"Predicted\")\n",
    "    plt.ylabel(\"Actual\")\n",
    "    plt.title(\"Confusion Matrix\")\n",
    "    plt.show()\n",
    "    \n",
    "    print(\"Classification Report\", cl_report)\n",
    "    return model_accuracy"
   ]
  },
  {
   "cell_type": "code",
   "execution_count": 22,
   "id": "0c1b140e",
   "metadata": {},
   "outputs": [
    {
     "data": {
      "text/plain": [
       "RandomForestClassifier()"
      ]
     },
     "execution_count": 22,
     "metadata": {},
     "output_type": "execute_result"
    }
   ],
   "source": [
    "imbalanced_data = all_features_df.copy()\n",
    "X_train, X_test, y_train, y_test = split_and_scale_data(imbalanced_data)\n",
    "\n",
    "model_1 = RandomForestClassifier()\n",
    "model_1.fit(X_train, y_train)"
   ]
  },
  {
   "cell_type": "code",
   "execution_count": 23,
   "id": "06f9453e",
   "metadata": {},
   "outputs": [
    {
     "name": "stdout",
     "output_type": "stream",
     "text": [
      "Accuracy(Imbalanced):95.86%\n"
     ]
    },
    {
     "data": {
      "image/png": "[encoded data removed]",
      "text/plain": [
       "<Figure size 576x576 with 1 Axes>"
      ]
     },
     "metadata": {},
     "output_type": "display_data"
    },
    {
     "name": "stdout",
     "output_type": "stream",
     "text": [
      "Classification Report               precision    recall  f1-score   support\n",
      "\n",
      "           0       0.97      0.95      0.96     42557\n",
      "           1       0.95      0.97      0.96     56500\n",
      "           2       0.95      0.97      0.96      7121\n",
      "           3       0.92      0.84      0.88       526\n",
      "           4       0.94      0.78      0.85      1995\n",
      "           5       0.94      0.91      0.93      3489\n",
      "           6       0.98      0.96      0.97      4015\n",
      "\n",
      "    accuracy                           0.96    116203\n",
      "   macro avg       0.95      0.91      0.93    116203\n",
      "weighted avg       0.96      0.96      0.96    116203\n",
      "\n"
     ]
    },
    {
     "data": {
      "text/plain": [
       "0.9586413431666997"
      ]
     },
     "execution_count": 23,
     "metadata": {},
     "output_type": "execute_result"
    }
   ],
   "source": [
    "evaluate_model(model_1,\"Imbalanced\",X_test, y_test)"
   ]
  },
  {
   "cell_type": "code",
   "execution_count": 24,
   "id": "f06ce3b8",
   "metadata": {},
   "outputs": [
    {
     "name": "stdout",
     "output_type": "stream",
     "text": [
      "Accuracy(Imbalanced):71.53%\n"
     ]
    },
    {
     "data": {
      "image/png": "[encoded data removed]",
      "text/plain": [
       "<Figure size 576x576 with 1 Axes>"
      ]
     },
     "metadata": {},
     "output_type": "display_data"
    },
    {
     "name": "stdout",
     "output_type": "stream",
     "text": [
      "Classification Report               precision    recall  f1-score   support\n",
      "\n",
      "           0       0.70      0.70      0.70     42557\n",
      "           1       0.74      0.79      0.76     56500\n",
      "           2       0.66      0.80      0.72      7121\n",
      "           3       0.58      0.29      0.39       526\n",
      "           4       0.00      0.00      0.00      1995\n",
      "           5       0.46      0.21      0.28      3489\n",
      "           6       0.72      0.51      0.60      4015\n",
      "\n",
      "    accuracy                           0.72    116203\n",
      "   macro avg       0.55      0.47      0.49    116203\n",
      "weighted avg       0.70      0.72      0.70    116203\n",
      "\n"
     ]
    },
    {
     "data": {
      "text/plain": [
       "0.715265526707572"
      ]
     },
     "execution_count": 24,
     "metadata": {},
     "output_type": "execute_result"
    }
   ],
   "source": [
    "model_2 = LogisticRegression()\n",
    "model_2.fit(X_train, y_train)\n",
    "evaluate_model(model_2,\"Imbalanced\",X_test, y_test)"
   ]
  },
  {
   "cell_type": "code",
   "execution_count": 25,
   "id": "76fa775a",
   "metadata": {},
   "outputs": [],
   "source": [
    "y_pred_probabilities = model_2.predict_proba(X_test)"
   ]
  },
  {
   "cell_type": "code",
   "execution_count": 26,
   "id": "24ff9887",
   "metadata": {},
   "outputs": [
    {
     "data": {
      "text/plain": [
       "array([[5.30308804e-01, 4.39140221e-01, 3.54415845e-10, ...,\n",
       "        5.38811314e-04, 4.85733820e-10, 3.00121623e-02],\n",
       "       [4.25001363e-02, 8.64810091e-01, 3.08952719e-03, ...,\n",
       "        6.62939777e-02, 2.32701577e-02, 9.91654430e-06],\n",
       "       [1.29589566e-02, 4.93422389e-01, 1.53870922e-01, ...,\n",
       "        3.38464116e-02, 3.05778385e-01, 1.69225498e-08],\n",
       "       ...,\n",
       "       [1.27492494e-01, 8.59111047e-01, 3.44511522e-07, ...,\n",
       "        1.33107985e-02, 1.36967529e-06, 4.88131490e-05],\n",
       "       [1.24459667e-01, 8.72204124e-01, 5.12176716e-07, ...,\n",
       "        3.12040738e-03, 7.95667510e-07, 7.57401391e-05],\n",
       "       [2.29598210e-01, 7.33967760e-02, 1.02006560e-08, ...,\n",
       "        1.22687199e-04, 2.44005539e-07, 6.96882071e-01]])"
      ]
     },
     "execution_count": 26,
     "metadata": {},
     "output_type": "execute_result"
    }
   ],
   "source": [
    "y_pred_probabilities"
   ]
  },
  {
   "cell_type": "markdown",
   "id": "0c9afd53",
   "metadata": {},
   "source": [
    "#### Inference\n",
    "- From above confusion matrix we can observe that most of the true positives and true negatives are from class 1 and Class 2 only.\n",
    "- We have huge disconnection between over represented classes and under represented classes."
   ]
  },
  {
   "cell_type": "markdown",
   "id": "95a38a81",
   "metadata": {},
   "source": [
    "### 1. Random under-sampling\n",
    "####  It consists of removing samples from the majority class (under-sampling)"
   ]
  },
  {
   "cell_type": "code",
   "execution_count": 27,
   "id": "a663aa65",
   "metadata": {},
   "outputs": [
    {
     "data": {
      "text/plain": [
       "1    283301\n",
       "0    211840\n",
       "2     35754\n",
       "6     20510\n",
       "5     17367\n",
       "4      9493\n",
       "3      2747\n",
       "Name: Cover_Type, dtype: int64"
      ]
     },
     "execution_count": 27,
     "metadata": {},
     "output_type": "execute_result"
    }
   ],
   "source": [
    "under_sampled_data = all_features_df.copy()\n",
    "under_sampled_data['Cover_Type'].value_counts()"
   ]
  },
  {
   "cell_type": "code",
   "execution_count": 28,
   "id": "d7156556",
   "metadata": {},
   "outputs": [
    {
     "name": "stdout",
     "output_type": "stream",
     "text": [
      "Size of smallest class: 2747\n"
     ]
    }
   ],
   "source": [
    "minimum_class_size = np.min(under_sampled_data['Cover_Type'].value_counts().values)\n",
    "print(\"Size of smallest class:\",minimum_class_size)"
   ]
  },
  {
   "cell_type": "code",
   "execution_count": 29,
   "id": "898b0d21",
   "metadata": {},
   "outputs": [
    {
     "data": {
      "text/html": [
       "<div>\n",
       "<style scoped>\n",
       "    .dataframe tbody tr th:only-of-type {\n",
       "        vertical-align: middle;\n",
       "    }\n",
       "\n",
       "    .dataframe tbody tr th {\n",
       "        vertical-align: top;\n",
       "    }\n",
       "\n",
       "    .dataframe thead th {\n",
       "        text-align: right;\n",
       "    }\n",
       "</style>\n",
       "<table border=\"1\" class=\"dataframe\">\n",
       "  <thead>\n",
       "    <tr style=\"text-align: right;\">\n",
       "      <th></th>\n",
       "      <th>Elevation</th>\n",
       "      <th>Aspect</th>\n",
       "      <th>Slope</th>\n",
       "      <th>Horizontal_Distance_To_Hydrology</th>\n",
       "      <th>Vertical_Distance_To_Hydrology</th>\n",
       "      <th>Horizontal_Distance_To_Roadways</th>\n",
       "      <th>Hillshade_9am</th>\n",
       "      <th>Hillshade_Noon</th>\n",
       "      <th>Hillshade_3pm</th>\n",
       "      <th>Horizontal_Distance_To_Fire_Points</th>\n",
       "      <th>Wilderness_Area1</th>\n",
       "      <th>Wilderness_Area2</th>\n",
       "      <th>Wilderness_Area3</th>\n",
       "      <th>Wilderness_Area4</th>\n",
       "      <th>Soil_Type</th>\n",
       "      <th>Cover_Type</th>\n",
       "    </tr>\n",
       "  </thead>\n",
       "  <tbody>\n",
       "    <tr>\n",
       "      <th>40</th>\n",
       "      <td>2699</td>\n",
       "      <td>347</td>\n",
       "      <td>3</td>\n",
       "      <td>0</td>\n",
       "      <td>0</td>\n",
       "      <td>2096</td>\n",
       "      <td>213</td>\n",
       "      <td>234</td>\n",
       "      <td>159</td>\n",
       "      <td>6853</td>\n",
       "      <td>1</td>\n",
       "      <td>0</td>\n",
       "      <td>0</td>\n",
       "      <td>0</td>\n",
       "      <td>20</td>\n",
       "      <td>0</td>\n",
       "    </tr>\n",
       "    <tr>\n",
       "      <th>51</th>\n",
       "      <td>2739</td>\n",
       "      <td>323</td>\n",
       "      <td>25</td>\n",
       "      <td>85</td>\n",
       "      <td>43</td>\n",
       "      <td>3118</td>\n",
       "      <td>149</td>\n",
       "      <td>205</td>\n",
       "      <td>192</td>\n",
       "      <td>6219</td>\n",
       "      <td>1</td>\n",
       "      <td>0</td>\n",
       "      <td>0</td>\n",
       "      <td>0</td>\n",
       "      <td>29</td>\n",
       "      <td>0</td>\n",
       "    </tr>\n",
       "    <tr>\n",
       "      <th>52</th>\n",
       "      <td>2696</td>\n",
       "      <td>72</td>\n",
       "      <td>2</td>\n",
       "      <td>30</td>\n",
       "      <td>0</td>\n",
       "      <td>3271</td>\n",
       "      <td>222</td>\n",
       "      <td>234</td>\n",
       "      <td>149</td>\n",
       "      <td>6071</td>\n",
       "      <td>1</td>\n",
       "      <td>0</td>\n",
       "      <td>0</td>\n",
       "      <td>0</td>\n",
       "      <td>30</td>\n",
       "      <td>0</td>\n",
       "    </tr>\n",
       "    <tr>\n",
       "      <th>55</th>\n",
       "      <td>2722</td>\n",
       "      <td>315</td>\n",
       "      <td>24</td>\n",
       "      <td>30</td>\n",
       "      <td>19</td>\n",
       "      <td>3216</td>\n",
       "      <td>148</td>\n",
       "      <td>212</td>\n",
       "      <td>200</td>\n",
       "      <td>6132</td>\n",
       "      <td>1</td>\n",
       "      <td>0</td>\n",
       "      <td>0</td>\n",
       "      <td>0</td>\n",
       "      <td>16</td>\n",
       "      <td>0</td>\n",
       "    </tr>\n",
       "    <tr>\n",
       "      <th>67</th>\n",
       "      <td>2919</td>\n",
       "      <td>13</td>\n",
       "      <td>13</td>\n",
       "      <td>90</td>\n",
       "      <td>6</td>\n",
       "      <td>5321</td>\n",
       "      <td>207</td>\n",
       "      <td>214</td>\n",
       "      <td>142</td>\n",
       "      <td>4060</td>\n",
       "      <td>1</td>\n",
       "      <td>0</td>\n",
       "      <td>0</td>\n",
       "      <td>0</td>\n",
       "      <td>29</td>\n",
       "      <td>0</td>\n",
       "    </tr>\n",
       "    <tr>\n",
       "      <th>...</th>\n",
       "      <td>...</td>\n",
       "      <td>...</td>\n",
       "      <td>...</td>\n",
       "      <td>...</td>\n",
       "      <td>...</td>\n",
       "      <td>...</td>\n",
       "      <td>...</td>\n",
       "      <td>...</td>\n",
       "      <td>...</td>\n",
       "      <td>...</td>\n",
       "      <td>...</td>\n",
       "      <td>...</td>\n",
       "      <td>...</td>\n",
       "      <td>...</td>\n",
       "      <td>...</td>\n",
       "      <td>...</td>\n",
       "    </tr>\n",
       "    <tr>\n",
       "      <th>565432</th>\n",
       "      <td>2826</td>\n",
       "      <td>72</td>\n",
       "      <td>14</td>\n",
       "      <td>67</td>\n",
       "      <td>13</td>\n",
       "      <td>2984</td>\n",
       "      <td>235</td>\n",
       "      <td>213</td>\n",
       "      <td>106</td>\n",
       "      <td>2082</td>\n",
       "      <td>0</td>\n",
       "      <td>0</td>\n",
       "      <td>1</td>\n",
       "      <td>0</td>\n",
       "      <td>24</td>\n",
       "      <td>0</td>\n",
       "    </tr>\n",
       "    <tr>\n",
       "      <th>565433</th>\n",
       "      <td>2820</td>\n",
       "      <td>69</td>\n",
       "      <td>14</td>\n",
       "      <td>42</td>\n",
       "      <td>7</td>\n",
       "      <td>2954</td>\n",
       "      <td>234</td>\n",
       "      <td>211</td>\n",
       "      <td>106</td>\n",
       "      <td>2065</td>\n",
       "      <td>0</td>\n",
       "      <td>0</td>\n",
       "      <td>1</td>\n",
       "      <td>0</td>\n",
       "      <td>24</td>\n",
       "      <td>0</td>\n",
       "    </tr>\n",
       "    <tr>\n",
       "      <th>565434</th>\n",
       "      <td>2812</td>\n",
       "      <td>67</td>\n",
       "      <td>16</td>\n",
       "      <td>30</td>\n",
       "      <td>0</td>\n",
       "      <td>2925</td>\n",
       "      <td>234</td>\n",
       "      <td>206</td>\n",
       "      <td>99</td>\n",
       "      <td>2047</td>\n",
       "      <td>0</td>\n",
       "      <td>0</td>\n",
       "      <td>1</td>\n",
       "      <td>0</td>\n",
       "      <td>24</td>\n",
       "      <td>0</td>\n",
       "    </tr>\n",
       "    <tr>\n",
       "      <th>565527</th>\n",
       "      <td>2832</td>\n",
       "      <td>45</td>\n",
       "      <td>17</td>\n",
       "      <td>85</td>\n",
       "      <td>19</td>\n",
       "      <td>2989</td>\n",
       "      <td>222</td>\n",
       "      <td>200</td>\n",
       "      <td>106</td>\n",
       "      <td>2058</td>\n",
       "      <td>0</td>\n",
       "      <td>0</td>\n",
       "      <td>1</td>\n",
       "      <td>0</td>\n",
       "      <td>24</td>\n",
       "      <td>0</td>\n",
       "    </tr>\n",
       "    <tr>\n",
       "      <th>565528</th>\n",
       "      <td>2827</td>\n",
       "      <td>43</td>\n",
       "      <td>18</td>\n",
       "      <td>67</td>\n",
       "      <td>14</td>\n",
       "      <td>2960</td>\n",
       "      <td>221</td>\n",
       "      <td>199</td>\n",
       "      <td>107</td>\n",
       "      <td>2040</td>\n",
       "      <td>0</td>\n",
       "      <td>0</td>\n",
       "      <td>1</td>\n",
       "      <td>0</td>\n",
       "      <td>24</td>\n",
       "      <td>0</td>\n",
       "    </tr>\n",
       "  </tbody>\n",
       "</table>\n",
       "<p>211840 rows × 16 columns</p>\n",
       "</div>"
      ],
      "text/plain": [
       "        Elevation  Aspect  Slope  Horizontal_Distance_To_Hydrology  \\\n",
       "40           2699     347      3                                 0   \n",
       "51           2739     323     25                                85   \n",
       "52           2696      72      2                                30   \n",
       "55           2722     315     24                                30   \n",
       "67           2919      13     13                                90   \n",
       "...           ...     ...    ...                               ...   \n",
       "565432       2826      72     14                                67   \n",
       "565433       2820      69     14                                42   \n",
       "565434       2812      67     16                                30   \n",
       "565527       2832      45     17                                85   \n",
       "565528       2827      43     18                                67   \n",
       "\n",
       "        Vertical_Distance_To_Hydrology  Horizontal_Distance_To_Roadways  \\\n",
       "40                                   0                             2096   \n",
       "51                                  43                             3118   \n",
       "52                                   0                             3271   \n",
       "55                                  19                             3216   \n",
       "67                                   6                             5321   \n",
       "...                                ...                              ...   \n",
       "565432                              13                             2984   \n",
       "565433                               7                             2954   \n",
       "565434                               0                             2925   \n",
       "565527                              19                             2989   \n",
       "565528                              14                             2960   \n",
       "\n",
       "        Hillshade_9am  Hillshade_Noon  Hillshade_3pm  \\\n",
       "40                213             234            159   \n",
       "51                149             205            192   \n",
       "52                222             234            149   \n",
       "55                148             212            200   \n",
       "67                207             214            142   \n",
       "...               ...             ...            ...   \n",
       "565432            235             213            106   \n",
       "565433            234             211            106   \n",
       "565434            234             206             99   \n",
       "565527            222             200            106   \n",
       "565528            221             199            107   \n",
       "\n",
       "        Horizontal_Distance_To_Fire_Points  Wilderness_Area1  \\\n",
       "40                                    6853                 1   \n",
       "51                                    6219                 1   \n",
       "52                                    6071                 1   \n",
       "55                                    6132                 1   \n",
       "67                                    4060                 1   \n",
       "...                                    ...               ...   \n",
       "565432                                2082                 0   \n",
       "565433                                2065                 0   \n",
       "565434                                2047                 0   \n",
       "565527                                2058                 0   \n",
       "565528                                2040                 0   \n",
       "\n",
       "        Wilderness_Area2  Wilderness_Area3  Wilderness_Area4  Soil_Type  \\\n",
       "40                     0                 0                 0         20   \n",
       "51                     0                 0                 0         29   \n",
       "52                     0                 0                 0         30   \n",
       "55                     0                 0                 0         16   \n",
       "67                     0                 0                 0         29   \n",
       "...                  ...               ...               ...        ...   \n",
       "565432                 0                 1                 0         24   \n",
       "565433                 0                 1                 0         24   \n",
       "565434                 0                 1                 0         24   \n",
       "565527                 0                 1                 0         24   \n",
       "565528                 0                 1                 0         24   \n",
       "\n",
       "        Cover_Type  \n",
       "40               0  \n",
       "51               0  \n",
       "52               0  \n",
       "55               0  \n",
       "67               0  \n",
       "...            ...  \n",
       "565432           0  \n",
       "565433           0  \n",
       "565434           0  \n",
       "565527           0  \n",
       "565528           0  \n",
       "\n",
       "[211840 rows x 16 columns]"
      ]
     },
     "execution_count": 29,
     "metadata": {},
     "output_type": "execute_result"
    }
   ],
   "source": [
    "class_subsets = [under_sampled_data.query(\"Cover_Type == \" + str(i)) for i in range(7)]\n",
    "class_subsets[0]"
   ]
  },
  {
   "cell_type": "markdown",
   "id": "6147f0d5",
   "metadata": {},
   "source": [
    "#### Undersample the majority class \n",
    "- We will go through the each class subsets and sample 2747 records."
   ]
  },
  {
   "cell_type": "code",
   "execution_count": 30,
   "id": "f6d5e275",
   "metadata": {},
   "outputs": [],
   "source": [
    "class_subsets = [under_sampled_data.query(\"Cover_Type==\"+str(i)) for i in range(7)]\n",
    "for i in range(7):\n",
    "    class_subsets[i] = class_subsets[i].sample(minimum_class_size)\n",
    "under_sampled_data = pd.concat(class_subsets, axis=0).sample(frac=1.0).reset_index(drop=True)"
   ]
  },
  {
   "cell_type": "code",
   "execution_count": 31,
   "id": "eb5ee554",
   "metadata": {
    "scrolled": false
   },
   "outputs": [
    {
     "data": {
      "text/plain": [
       "6    2747\n",
       "1    2747\n",
       "4    2747\n",
       "2    2747\n",
       "5    2747\n",
       "0    2747\n",
       "3    2747\n",
       "Name: Cover_Type, dtype: int64"
      ]
     },
     "execution_count": 31,
     "metadata": {},
     "output_type": "execute_result"
    }
   ],
   "source": [
    "under_sampled_data['Cover_Type'].value_counts()"
   ]
  },
  {
   "cell_type": "code",
   "execution_count": 32,
   "id": "db8efa21",
   "metadata": {},
   "outputs": [
    {
     "data": {
      "text/plain": [
       "RandomForestClassifier()"
      ]
     },
     "execution_count": 32,
     "metadata": {},
     "output_type": "execute_result"
    }
   ],
   "source": [
    "X_train, X_test, y_train, y_test = split_and_scale_data(under_sampled_data)\n",
    "\n",
    "model_1 = RandomForestClassifier()\n",
    "model_1.fit(X_train, y_train)"
   ]
  },
  {
   "cell_type": "code",
   "execution_count": 33,
   "id": "a3fb052e",
   "metadata": {},
   "outputs": [
    {
     "name": "stdout",
     "output_type": "stream",
     "text": [
      "Accuracy(UnderSampling):87.23%\n"
     ]
    },
    {
     "data": {
      "image/png": "[encoded data removed]",
      "text/plain": [
       "<Figure size 576x576 with 1 Axes>"
      ]
     },
     "metadata": {},
     "output_type": "display_data"
    },
    {
     "name": "stdout",
     "output_type": "stream",
     "text": [
      "Classification Report               precision    recall  f1-score   support\n",
      "\n",
      "           0       0.77      0.78      0.78       546\n",
      "           1       0.79      0.68      0.73       539\n",
      "           2       0.88      0.84      0.86       580\n",
      "           3       0.93      0.98      0.95       560\n",
      "           4       0.90      0.96      0.93       535\n",
      "           5       0.87      0.90      0.88       584\n",
      "           6       0.94      0.97      0.96       502\n",
      "\n",
      "    accuracy                           0.87      3846\n",
      "   macro avg       0.87      0.87      0.87      3846\n",
      "weighted avg       0.87      0.87      0.87      3846\n",
      "\n"
     ]
    },
    {
     "data": {
      "text/plain": [
       "0.8723348933957358"
      ]
     },
     "execution_count": 33,
     "metadata": {},
     "output_type": "execute_result"
    }
   ],
   "source": [
    "evaluate_model(model_1,\"UnderSampling\",X_test, y_test)"
   ]
  },
  {
   "cell_type": "markdown",
   "id": "9f7b83e1",
   "metadata": {},
   "source": [
    "### 2. Random over-sampling\n",
    "####   It consists of adding more examples from the minority class (over-sampling)."
   ]
  },
  {
   "cell_type": "code",
   "execution_count": 34,
   "id": "a52771aa",
   "metadata": {},
   "outputs": [
    {
     "name": "stdout",
     "output_type": "stream",
     "text": [
      "Size of largest class: 283301\n"
     ]
    }
   ],
   "source": [
    "over_sampled_data = all_features_df.copy()\n",
    "maximum_class_size = np.max(over_sampled_data['Cover_Type'].value_counts().values)\n",
    "print(\"Size of largest class:\",maximum_class_size)"
   ]
  },
  {
   "cell_type": "markdown",
   "id": "bfe3721d",
   "metadata": {},
   "source": [
    "#### Oversampling the minority class \n",
    "- We will go through the each class subsets and sample 2747 records."
   ]
  },
  {
   "cell_type": "code",
   "execution_count": 35,
   "id": "b6481c28",
   "metadata": {},
   "outputs": [],
   "source": [
    "class_subsets = [over_sampled_data.query(\"Cover_Type==\"+str(i)) for i in range(7)]\n",
    "for i in range(7):\n",
    "    class_subsets[i] = class_subsets[i].sample(maximum_class_size, replace=True,random_state=42)\n",
    "over_sampled_data = pd.concat(class_subsets, axis=0).sample(frac=1.0, random_state=42).reset_index(drop=True)"
   ]
  },
  {
   "cell_type": "code",
   "execution_count": 36,
   "id": "a7bf1ba8",
   "metadata": {},
   "outputs": [
    {
     "data": {
      "text/plain": [
       "2    283301\n",
       "6    283301\n",
       "0    283301\n",
       "1    283301\n",
       "4    283301\n",
       "5    283301\n",
       "3    283301\n",
       "Name: Cover_Type, dtype: int64"
      ]
     },
     "execution_count": 36,
     "metadata": {},
     "output_type": "execute_result"
    }
   ],
   "source": [
    "over_sampled_data['Cover_Type'].value_counts()"
   ]
  },
  {
   "cell_type": "code",
   "execution_count": 37,
   "id": "d7f1d9b2",
   "metadata": {},
   "outputs": [
    {
     "data": {
      "text/plain": [
       "RandomForestClassifier()"
      ]
     },
     "execution_count": 37,
     "metadata": {},
     "output_type": "execute_result"
    }
   ],
   "source": [
    "X_train, X_test, y_train, y_test = split_and_scale_data(over_sampled_data)\n",
    "\n",
    "rf_classifier = RandomForestClassifier()\n",
    "rf_classifier.fit(X_train, y_train)"
   ]
  },
  {
   "cell_type": "code",
   "execution_count": 38,
   "id": "e4182513",
   "metadata": {},
   "outputs": [
    {
     "name": "stdout",
     "output_type": "stream",
     "text": [
      "Accuracy(OverSampling):99.53%\n"
     ]
    },
    {
     "data": {
      "image/png": "[encoded data removed]",
      "text/plain": [
       "<Figure size 576x576 with 1 Axes>"
      ]
     },
     "metadata": {},
     "output_type": "display_data"
    },
    {
     "name": "stdout",
     "output_type": "stream",
     "text": [
      "Classification Report               precision    recall  f1-score   support\n",
      "\n",
      "           0       0.99      0.98      0.99     56456\n",
      "           1       0.99      0.98      0.98     56498\n",
      "           2       1.00      1.00      1.00     56970\n",
      "           3       1.00      1.00      1.00     56432\n",
      "           4       1.00      1.00      1.00     57276\n",
      "           5       1.00      1.00      1.00     56437\n",
      "           6       1.00      1.00      1.00     56553\n",
      "\n",
      "    accuracy                           1.00    396622\n",
      "   macro avg       1.00      1.00      1.00    396622\n",
      "weighted avg       1.00      1.00      1.00    396622\n",
      "\n"
     ]
    },
    {
     "data": {
      "text/plain": [
       "0.9953204814659802"
      ]
     },
     "execution_count": 38,
     "metadata": {},
     "output_type": "execute_result"
    }
   ],
   "source": [
    "evaluate_model(rf_classifier,\"OverSampling\",X_test, y_test)"
   ]
  },
  {
   "cell_type": "markdown",
   "id": "c0552eef",
   "metadata": {},
   "source": [
    "#### Random Forest Classifier"
   ]
  },
  {
   "cell_type": "code",
   "execution_count": 39,
   "id": "2952a2dd",
   "metadata": {},
   "outputs": [
    {
     "data": {
      "text/plain": [
       "RandomForestClassifier()"
      ]
     },
     "execution_count": 39,
     "metadata": {},
     "output_type": "execute_result"
    }
   ],
   "source": [
    "imbalanced_data = all_features_df.copy()\n",
    "X_train, X_test, y_train, y_test = split_and_scale_data(imbalanced_data)\n",
    "\n",
    "rf_classifier = RandomForestClassifier()\n",
    "rf_classifier.fit(X_train, y_train)"
   ]
  },
  {
   "cell_type": "markdown",
   "id": "d250b8bb",
   "metadata": {},
   "source": [
    "#### In order to calculate roc_auc_score in multi class classification we need to mention strategies either as OvR and OvO strategies."
   ]
  },
  {
   "cell_type": "code",
   "execution_count": 40,
   "id": "087a4d97",
   "metadata": {},
   "outputs": [
    {
     "name": "stdout",
     "output_type": "stream",
     "text": [
      "roc_score 0.9984182052140973\n",
      "Accuracy(Imbalanced_data):95.90%\n"
     ]
    },
    {
     "data": {
      "image/png": "[encoded data removed]",
      "text/plain": [
       "<Figure size 576x576 with 1 Axes>"
      ]
     },
     "metadata": {},
     "output_type": "display_data"
    },
    {
     "name": "stdout",
     "output_type": "stream",
     "text": [
      "Classification Report               precision    recall  f1-score   support\n",
      "\n",
      "           0       0.97      0.95      0.96     42557\n",
      "           1       0.96      0.97      0.96     56500\n",
      "           2       0.95      0.97      0.96      7121\n",
      "           3       0.92      0.84      0.88       526\n",
      "           4       0.94      0.79      0.86      1995\n",
      "           5       0.94      0.91      0.93      3489\n",
      "           6       0.98      0.96      0.97      4015\n",
      "\n",
      "    accuracy                           0.96    116203\n",
      "   macro avg       0.95      0.91      0.93    116203\n",
      "weighted avg       0.96      0.96      0.96    116203\n",
      "\n"
     ]
    }
   ],
   "source": [
    "# Make predictions\n",
    "y_pred_probabilities = rf_classifier.predict_proba(X_test)\n",
    "rf_roc_auc = roc_auc_score(y_test, y_pred_probabilities,multi_class=\"ovr\") #Calculate Roc\n",
    "print(\"roc_score\",rf_roc_auc)\n",
    "rf_accuracy =  evaluate_model(rf_classifier,\"Imbalanced_data\",X_test, y_test)"
   ]
  },
  {
   "cell_type": "markdown",
   "id": "8f1ddf62",
   "metadata": {},
   "source": [
    "#### Extra Trees (Random Forests) Classifier"
   ]
  },
  {
   "cell_type": "code",
   "execution_count": 41,
   "id": "77c70c84",
   "metadata": {},
   "outputs": [
    {
     "name": "stdout",
     "output_type": "stream",
     "text": [
      "roc_score 0.9982483807724573\n",
      "Accuracy(Imbalanced):95.78%\n"
     ]
    },
    {
     "data": {
      "image/png": "[encoded data removed]",
      "text/plain": [
       "<Figure size 576x576 with 1 Axes>"
      ]
     },
     "metadata": {},
     "output_type": "display_data"
    },
    {
     "name": "stdout",
     "output_type": "stream",
     "text": [
      "Classification Report               precision    recall  f1-score   support\n",
      "\n",
      "           0       0.97      0.95      0.96     42557\n",
      "           1       0.95      0.97      0.96     56500\n",
      "           2       0.95      0.97      0.96      7121\n",
      "           3       0.92      0.84      0.87       526\n",
      "           4       0.94      0.80      0.86      1995\n",
      "           5       0.94      0.92      0.93      3489\n",
      "           6       0.97      0.96      0.97      4015\n",
      "\n",
      "    accuracy                           0.96    116203\n",
      "   macro avg       0.95      0.91      0.93    116203\n",
      "weighted avg       0.96      0.96      0.96    116203\n",
      "\n"
     ]
    }
   ],
   "source": [
    "xrf_classifier = ExtraTreesClassifier()\n",
    "xrf_classifier.fit(X_train, y_train)\n",
    "# Make predictions\n",
    "y_pred_probabilities = xrf_classifier.predict_proba(X_test)\n",
    "xrf_roc_auc = roc_auc_score(y_test, y_pred_probabilities,multi_class=\"ovr\") #Calculate Roc\n",
    "print(\"roc_score\",xrf_roc_auc)\n",
    "xrf_accuracy = evaluate_model(xrf_classifier,\"Imbalanced\",X_test, y_test)"
   ]
  },
  {
   "cell_type": "markdown",
   "id": "5908c153",
   "metadata": {},
   "source": [
    "#### Light Gradient Boosting Machine (LightGBM) Classifier"
   ]
  },
  {
   "cell_type": "code",
   "execution_count": 42,
   "id": "06f5ea1e",
   "metadata": {},
   "outputs": [
    {
     "name": "stdout",
     "output_type": "stream",
     "text": [
      "roc_score 0.9785191552635933\n",
      "Accuracy(Imbalanced):85.44%\n"
     ]
    },
    {
     "data": {
      "image/png": "[encoded data removed]",
      "text/plain": [
       "<Figure size 576x576 with 1 Axes>"
      ]
     },
     "metadata": {},
     "output_type": "display_data"
    },
    {
     "name": "stdout",
     "output_type": "stream",
     "text": [
      "Classification Report               precision    recall  f1-score   support\n",
      "\n",
      "           0       0.85      0.82      0.83     42557\n",
      "           1       0.85      0.89      0.87     56500\n",
      "           2       0.88      0.91      0.90      7121\n",
      "           3       0.74      0.77      0.76       526\n",
      "           4       0.85      0.61      0.71      1995\n",
      "           5       0.83      0.78      0.81      3489\n",
      "           6       0.94      0.89      0.91      4015\n",
      "\n",
      "    accuracy                           0.85    116203\n",
      "   macro avg       0.85      0.81      0.83    116203\n",
      "weighted avg       0.85      0.85      0.85    116203\n",
      "\n"
     ]
    }
   ],
   "source": [
    "# create model apply fit_evaluate_model\n",
    "lgbm_classifier = LGBMClassifier()\n",
    "lgbm_classifier.fit(X_train, y_train)\n",
    "# Make predictions\n",
    "y_pred_probabilities = lgbm_classifier.predict_proba(X_test)\n",
    "lgbm_roc_auc = roc_auc_score(y_test, y_pred_probabilities,multi_class=\"ovr\") #Calculate Roc\n",
    "print(\"roc_score\",lgbm_roc_auc)\n",
    "lgbm_accuracy = evaluate_model(lgbm_classifier,\"Imbalanced\",X_test, y_test)"
   ]
  },
  {
   "cell_type": "code",
   "execution_count": 43,
   "id": "6a2a4f82",
   "metadata": {},
   "outputs": [
    {
     "name": "stdout",
     "output_type": "stream",
     "text": [
      "roc_score 0.9891860386098187\n",
      "Accuracy(Imbalanced):88.65%\n"
     ]
    },
    {
     "data": {
      "image/png": "[encoded data removed]",
      "text/plain": [
       "<Figure size 576x576 with 1 Axes>"
      ]
     },
     "metadata": {},
     "output_type": "display_data"
    },
    {
     "name": "stdout",
     "output_type": "stream",
     "text": [
      "Classification Report               precision    recall  f1-score   support\n",
      "\n",
      "           0       0.89      0.86      0.87     42557\n",
      "           1       0.88      0.92      0.90     56500\n",
      "           2       0.90      0.91      0.91      7121\n",
      "           3       0.89      0.79      0.83       526\n",
      "           4       0.90      0.60      0.72      1995\n",
      "           5       0.85      0.80      0.82      3489\n",
      "           6       0.93      0.90      0.91      4015\n",
      "\n",
      "    accuracy                           0.89    116203\n",
      "   macro avg       0.89      0.83      0.85    116203\n",
      "weighted avg       0.89      0.89      0.89    116203\n",
      "\n"
     ]
    }
   ],
   "source": [
    "# create model apply fit_evaluate_model \n",
    "cat_classifier = CatBoostClassifier(verbose=False)\n",
    "cat_classifier.fit(X_train, y_train)\n",
    "# Make predictions\n",
    "y_pred_probabilities = cat_classifier.predict_proba(X_test)\n",
    "cat_roc_auc = roc_auc_score(y_test, y_pred_probabilities,multi_class=\"ovr\") #Calculate Roc\n",
    "print(\"roc_score\",cat_roc_auc)\n",
    "cat_accuracy = evaluate_model(cat_classifier,\"Imbalanced\",X_test, y_test)"
   ]
  },
  {
   "cell_type": "code",
   "execution_count": 44,
   "id": "4bf89046",
   "metadata": {},
   "outputs": [
    {
     "name": "stdout",
     "output_type": "stream",
     "text": [
      "[09:54:02] WARNING: C:/Users/administrator/workspace/xgboost-win64_release_1.6.0/src/learner.cc:627: \n",
      "Parameters: { \"verbose\" } might not be used.\n",
      "\n",
      "  This could be a false alarm, with some parameters getting used by language bindings but\n",
      "  then being mistakenly passed down to XGBoost core, or some parameter actually being used\n",
      "  but getting flagged wrongly here. Please open an issue if you find any such cases.\n",
      "\n",
      "\n",
      "roc_score 0.9891860386098187\n",
      "Accuracy(Imbalanced):87.24%\n"
     ]
    },
    {
     "data": {
      "image/png": "[encoded data removed]",
      "text/plain": [
       "<Figure size 576x576 with 1 Axes>"
      ]
     },
     "metadata": {},
     "output_type": "display_data"
    },
    {
     "name": "stdout",
     "output_type": "stream",
     "text": [
      "Classification Report               precision    recall  f1-score   support\n",
      "\n",
      "           0       0.86      0.85      0.85     42557\n",
      "           1       0.87      0.90      0.88     56500\n",
      "           2       0.91      0.92      0.91      7121\n",
      "           3       0.91      0.84      0.87       526\n",
      "           4       0.90      0.61      0.73      1995\n",
      "           5       0.86      0.82      0.84      3489\n",
      "           6       0.95      0.92      0.93      4015\n",
      "\n",
      "    accuracy                           0.87    116203\n",
      "   macro avg       0.89      0.84      0.86    116203\n",
      "weighted avg       0.87      0.87      0.87    116203\n",
      "\n"
     ]
    }
   ],
   "source": [
    "# create model apply fit_evaluate_model \n",
    "xgb_classifier = XGBClassifier(verbose=False)\n",
    "xgb_classifier.fit(X_train, y_train)\n",
    "# Make predictions\n",
    "y_pred_probabilities = xgb_classifier.predict_proba(X_test)\n",
    "xgb_roc_auc = roc_auc_score(y_test, y_pred_probabilities,multi_class=\"ovr\") #Calculate Roc\n",
    "print(\"roc_score\",cat_roc_auc)\n",
    "xgb_accuracy = evaluate_model(xgb_classifier,\"Imbalanced\",X_test, y_test)"
   ]
  },
  {
   "cell_type": "markdown",
   "id": "f6cd4b24",
   "metadata": {},
   "source": [
    "## Evaluate all base Models"
   ]
  },
  {
   "cell_type": "code",
   "execution_count": 45,
   "id": "5fad3067",
   "metadata": {},
   "outputs": [
    {
     "data": {
      "text/plain": [
       "Text(0.5, 1.0, 'Accuracy Score of Different Models')"
      ]
     },
     "execution_count": 45,
     "metadata": {},
     "output_type": "execute_result"
    },
    {
     "data": {
      "image/png": "[encoded data removed]",
      "text/plain": [
       "<Figure size 720x720 with 1 Axes>"
      ]
     },
     "metadata": {},
     "output_type": "display_data"
    }
   ],
   "source": [
    "# create dataframe of accuracy and model and sort values\n",
    "performance_comparison = pd.DataFrame({\"Model\": [ \"LightGBM\", \"Random Forests\", \"Extra Trees\",\"cat_accuracy\",\"xgb_accuracy\"],\n",
    "                                       \"Accuracy\": [ lgbm_accuracy, rf_accuracy, xrf_accuracy,cat_accuracy,xgb_accuracy]})\n",
    "\n",
    "performance_comparison = performance_comparison.sort_values(by=\"Accuracy\", ascending=True)\n",
    "\n",
    "# set the plot\n",
    "plt.figure(figsize=(10,10))\n",
    "ax = sns.barplot(x=\"Accuracy\", y=\"Model\", data=performance_comparison, palette=\"Greens_d\")\n",
    "\n",
    "# set title arrange labels\n",
    "plt.yticks(size = 14)\n",
    "plt.xticks(size = 14)\n",
    "plt.title(\"Accuracy Score of Different Models\", size=14)\n"
   ]
  },
  {
   "cell_type": "markdown",
   "id": "070586f3",
   "metadata": {},
   "source": [
    "## Plot Roc Auc Curve"
   ]
  },
  {
   "cell_type": "code",
   "execution_count": 46,
   "id": "dc433f76",
   "metadata": {},
   "outputs": [
    {
     "data": {
      "image/png": "[encoded data removed]",
      "text/plain": [
       "<Figure size 432x288 with 1 Axes>"
      ]
     },
     "metadata": {},
     "output_type": "display_data"
    }
   ],
   "source": [
    "from sklearn.preprocessing import label_binarize\n",
    "from sklearn.metrics import roc_curve,auc\n",
    "#binarize the y_values\n",
    "\n",
    "classes=np.unique(y_test)\n",
    "y_test_binarized=label_binarize(y_test,classes=np.unique(y_test))\n",
    "\n",
    "# roc curve for classes\n",
    "fpr = {}\n",
    "tpr = {}\n",
    "thresh ={}\n",
    "roc_auc = dict()\n",
    "\n",
    "n_class = 7\n",
    "\n",
    "for i in range(n_class):    \n",
    "    fpr[i], tpr[i], thresh[i] = roc_curve(y_test_binarized[:,i], y_pred_probabilities[:,i])\n",
    "    roc_auc[i] = auc(fpr[i], tpr[i])\n",
    "    \n",
    "    # plotting    \n",
    "    plt.plot(fpr[i], tpr[i], linestyle='--', \n",
    "             label='%s vs Rest (AUC=%0.2f)'%(classes[i],roc_auc[i]))\n",
    "\n",
    "plt.plot([0,1],[0,1],'b--')\n",
    "plt.xlim([0,1])\n",
    "plt.ylim([0,1.05])\n",
    "plt.title('Multiclass ROC curve')\n",
    "plt.xlabel('False Positive Rate')\n",
    "plt.ylabel('True Positive rate')\n",
    "plt.legend(loc='lower right')\n",
    "plt.show()"
   ]
  },
  {
   "cell_type": "markdown",
   "id": "364dfc07",
   "metadata": {},
   "source": [
    "### Best Model is Random Forest Classifier with 96 % Accuracy, hence we can save this model"
   ]
  },
  {
   "cell_type": "code",
   "execution_count": 51,
   "id": "11284d56",
   "metadata": {},
   "outputs": [],
   "source": [
    "import pickle\n",
    " \n",
    "# Save the trained model as a pickle file.\n",
    "pickle.dump(rf_classifier, open('rf_classifier.pkl', 'wb'))"
   ]
  }
 ],
 "metadata": {
  "kernelspec": {
   "display_name": "Python 3 (ipykernel)",
   "language": "python",
   "name": "python3"
  },
  "language_info": {
   "codemirror_mode": {
    "name": "ipython",
    "version": 3
   },
   "file_extension": ".py",
   "mimetype": "text/x-python",
   "name": "python",
   "nbconvert_exporter": "python",
   "pygments_lexer": "ipython3",
   "version": "3.9.12"
  }
 },
 "nbformat": 4,
 "nbformat_minor": 5
}
